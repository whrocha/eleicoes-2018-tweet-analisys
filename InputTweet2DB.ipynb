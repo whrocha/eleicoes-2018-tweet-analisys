{
 "cells": [
  {
   "cell_type": "code",
   "execution_count": 1,
   "metadata": {},
   "outputs": [],
   "source": [
    "import pymongo\n",
    "import datetime\n",
    "import json\n",
    "import pandas as pd"
   ]
  },
  {
   "cell_type": "code",
   "execution_count": 2,
   "metadata": {},
   "outputs": [],
   "source": [
    "from pymongo import MongoClient\n",
    "client = MongoClient()"
   ]
  },
  {
   "cell_type": "code",
   "execution_count": 3,
   "metadata": {},
   "outputs": [],
   "source": [
    "client = MongoClient('localhost', 27017)"
   ]
  },
  {
   "cell_type": "code",
   "execution_count": 4,
   "metadata": {},
   "outputs": [],
   "source": [
    "db = client['eleicoes_2018_tweet_analisys_db']"
   ]
  },
  {
   "cell_type": "code",
   "execution_count": 5,
   "metadata": {},
   "outputs": [
    {
     "name": "stdout",
     "output_type": "stream",
     "text": [
      "iniciando\n",
      "----\n",
      "----\n",
      "Feito!\n",
      "qtd leitura de erro: 0\n"
     ]
    }
   ],
   "source": [
    "#post = {\"author\": \"Bill\",\n",
    "#         \"text\": \"My second blog post!\",\n",
    "#         \"tags\": [\"mongodb\", \"python\", \"pymongo\"],\n",
    "#         \"date\": datetime.datetime.utcnow()}\n",
    "#\n",
    "#posts = db.eleicoes_2018_tweet_analisys_db\n",
    "#post_id = posts.insert_one(post).inserted_id\n",
    "#post_id\n",
    "# abrindo arquivo tweet_json\n",
    "print('iniciando')\n",
    "print('----')\n",
    "i_error = 0\n",
    "\n",
    "with open('tweet_json_dia_2turno.txt', 'r') as json_file:\n",
    "    # lendo JSON linha a linha\n",
    "    for line in json_file:\n",
    "        try:\n",
    "        #print('lendo a linha do json')\n",
    "        #print('----')\n",
    "        #print(line)\n",
    "        \n",
    "            # lendo o JSON\n",
    "            j_content = json.loads(line)\n",
    "            tweet_db = db.eleicoes_2018_tweet_analisys_db\n",
    "            tweet_db_id = tweet_db.insert_one(j_content).inserted_id\n",
    "            \n",
    "        except:\n",
    "            i_error += 1\n",
    "        \n",
    "        #print('ID do twitter')\n",
    "        #print('----')\n",
    "        \n",
    "        #print(tweet_db_id)\n",
    "        \n",
    "print('----')\n",
    "print('Feito!')\n",
    "print('qtd leitura de erro: ' + str(i_error))"
   ]
  }
 ],
 "metadata": {
  "kernelspec": {
   "display_name": "Python 3",
   "language": "python",
   "name": "python3"
  },
  "language_info": {
   "codemirror_mode": {
    "name": "ipython",
    "version": 3
   },
   "file_extension": ".py",
   "mimetype": "text/x-python",
   "name": "python",
   "nbconvert_exporter": "python",
   "pygments_lexer": "ipython3",
   "version": "3.6.4"
  }
 },
 "nbformat": 4,
 "nbformat_minor": 2
}
